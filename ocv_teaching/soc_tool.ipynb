{
 "cells": [
  {
   "cell_type": "code",
   "execution_count": null,
   "id": "1105e7f1",
   "metadata": {},
   "outputs": [],
   "source": [
    "import numpy as np\n",
    "import matplotlib.pyplot as plt\n",
    "from ipywidgets import interact, FloatSlider\n",
    "\n",
    "# Example OCV curves (voltage vs stoichiometry, normally from measurement)\n",
    "def example_ocv_anode(s):\n",
    "    return 0.1 + 0.8 * (1 - s)**0.3  # typical LTO shape\n",
    "\n",
    "def example_ocv_cathode(s):\n",
    "    return 3.0 + 1.2 * s**0.5  # typical NMC shape\n",
    "\n",
    "# Main plotting function\n",
    "def plot_ocv_tanks(soc=0.5, np_ratio=1.1):\n",
    "    # Setup\n",
    "    s_vec = np.linspace(0, 1, 200)\n",
    "\n",
    "    # Assume cathode capacity = 1.0, anode = np_ratio\n",
    "    cap_cathode = 1.0\n",
    "    cap_anode = np_ratio\n",
    "\n",
    "    # Map stoichiometry to capacity (x-axis), with voltage as y\n",
    "    cap_vec_cathode = s_vec * cap_cathode\n",
    "    cap_vec_anode = s_vec * cap_anode\n",
    "\n",
    "    volt_cath = example_ocv_cathode(s_vec)\n",
    "    volt_an = example_ocv_anode(s_vec)\n",
    "\n",
    "    # Plotting\n",
    "    plt.figure(figsize=(8, 6))\n",
    "\n",
    "    # Cathode tank (on the left)\n",
    "    plt.plot(cap_vec_cathode, volt_cath, label='Cathode OCV', color='red')\n",
    "    plt.fill_between(cap_vec_cathode[:int(soc*len(s_vec))], 0, volt_cath[:int(soc*len(s_vec))], color='red', alpha=0.3)\n",
    "\n",
    "    # Anode tank (on the right, reversed x)\n",
    "    plt.plot(cap_anode - cap_vec_anode, volt_an, label='Anode OCV', color='blue')\n",
    "    plt.fill_between(cap_anode - cap_vec_anode[int((1-soc)*len(s_vec)):], 0, volt_an[int((1-soc)*len(s_vec)):], color='blue', alpha=0.3)\n",
    "\n",
    "    # Formatting\n",
    "    plt.title(f\"OCV 'Tank' View — SoC: {soc:.2f}, NP Ratio: {np_ratio:.2f}\")\n",
    "    plt.xlabel('Capacity (Ah or relative units)')\n",
    "    plt.ylabel('Voltage (V)')\n",
    "    plt.legend()\n",
    "    plt.grid(True)\n",
    "    plt.ylim(0, 5)\n",
    "    plt.xlim(-0.1, cap_anode + 0.1)\n",
    "    plt.tight_layout()\n",
    "    plt.show()\n",
    "\n"
   ]
  },
  {
   "cell_type": "code",
   "execution_count": null,
   "id": "30c043c5",
   "metadata": {},
   "outputs": [],
   "source": [
    "plot_ocv_tanks(0.5,1.1)  # Initial plot with default values"
   ]
  },
  {
   "cell_type": "code",
   "execution_count": null,
   "id": "59dca848",
   "metadata": {},
   "outputs": [],
   "source": [
    "# Interactive widget\n",
    "interact(\n",
    "    plot_ocv_tanks,\n",
    "    soc=FloatSlider(min=0.0, max=1.0, step=0.01, value=0.5, description='SoC'),\n",
    "    np_ratio=FloatSlider(min=0.8, max=1.5, step=0.01, value=1.1, description='NP Ratio')\n",
    ");\n"
   ]
  }
 ],
 "metadata": {
  "kernelspec": {
   "display_name": "venv",
   "language": "python",
   "name": "python3"
  },
  "language_info": {
   "codemirror_mode": {
    "name": "ipython",
    "version": 3
   },
   "file_extension": ".py",
   "mimetype": "text/x-python",
   "name": "python",
   "nbconvert_exporter": "python",
   "pygments_lexer": "ipython3",
   "version": "3.11.9"
  }
 },
 "nbformat": 4,
 "nbformat_minor": 5
}
