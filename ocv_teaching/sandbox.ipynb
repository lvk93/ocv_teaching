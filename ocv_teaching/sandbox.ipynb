{
 "cells": [
  {
   "cell_type": "code",
   "execution_count": null,
   "id": "53ff522d",
   "metadata": {},
   "outputs": [],
   "source": [
    "import pybamm\n",
    "\n",
    "\n",
    "\n",
    "class BatteryTankPlotter:\n",
    "    \"\"\"\n",
    "    Uses CellOCVReconstruction to plot dQ/dV 'tanks' and OCV curves for BOL and aged cells.\n",
    "    \"\"\"\n",
    "    def __init__(self, reconstructor: CellOCVReconstruction, resolution=500):\n",
    "        self.rec = reconstructor\n",
    "        self.resolution = resolution\n",
    "        self.bc = {\n",
    "            'an_bol': '#333333',\n",
    "            'ca_bol': '#5DADE2',\n",
    "            'an_aged': '#444444',\n",
    "            'ca_aged': '#003B73',\n",
    "            'fill_bol': '#44546A',\n",
    "            'fill_aged': '#70AD47',\n",
    "            'delta': '#F39C12'\n",
    "        }\n",
    "\n",
    "    def _compute_electrode_curves(self, an0, cath0, an1, cath1, direction):\n",
    "        soc = np.linspace(1,0, self.resolution)\n",
    "        V_cell, V_ca, V_an, sol_an, sol_ca = self.rec.reconstruct_voltage(\n",
    "            an0, cath0, an1, cath1, direction, soc)\n",
    "        dQdV_an = 1 / np.gradient(V_an, sol_an)\n",
    "        dQdV_ca = 1 / np.gradient(V_ca, sol_ca)\n",
    "        return soc, sol_an, V_an, dQdV_an, sol_ca, V_ca, dQdV_ca, V_cell\n",
    "\n",
    "    def plot(self, soc=0.5, lampe=0.0, lamne=0.0, lli=0.0):\n",
    "        ## Full curves\n",
    "        soc_vec = np.linspace(0,1,self.resolution)\n",
    "        V_an = self.rec.an(soc_vec)\n",
    "        V_cath = self.rec.cath(soc_vec)\n",
    "        dQdV_an = 1 / np.gradient(V_an, soc_vec)\n",
    "        dQdV_ca = 1 / np.gradient(V_cath, soc_vec)\n",
    "        \n",
    "        # plotting\n",
    "        fig, (ax1, ax2) = plt.subplots(1, 2, figsize=(12, 5))\n",
    "\n",
    "        ## Plot the full curves BOL\n",
    "        bc = self.bc\n",
    "        ax1.plot(dQdV_an*self.rec.np_ratio, -V_an, color=bc['an_aged'],linestyle='--')\n",
    "        ax1.plot(-dQdV_an*self.rec.np_ratio, -V_an, color=bc['an_aged'],linestyle='--')\n",
    "        ax1.plot(dQdV_ca, -V_cath, color=bc['ca_bol'],linestyle='--')\n",
    "        ax1.plot(-dQdV_ca, -V_cath, color=bc['ca_bol'],linestyle='--')\n",
    "\n",
    "        ## Plot the full curves aged\n",
    "        ax1.plot(dQdV_an*self.rec.np_ratio*(1-lamne), -V_an, color=bc['an_aged'], label='Anode')\n",
    "        ax1.plot(-dQdV_an*self.rec.np_ratio*(1-lamne), -V_an, color=bc['an_aged'])\n",
    "        ax1.plot(dQdV_ca*(1-lampe), -V_cath, color=bc['ca_bol'], label='Cathode')\n",
    "        ax1.plot(-dQdV_ca*(1-lampe), -V_cath, color=bc['ca_bol'])\n",
    "\n",
    "        # Compute aged filling\n",
    "        # BOL stoichiometries\n",
    "        an0_bol,cath0_bol,an1_bol,cath1_bol = self.rec.get_stoichiometries()\n",
    "        # aged stoichiometries\n",
    "        an0_a, ca0_a, an1_a, ca1_a = self.rec.simulate_aging_modes(lampe, lamne, lli)\n",
    "        # get aged voltages\n",
    "        v_an0 = self.rec.an(an0_a)\n",
    "        v_an1 = self.rec.an(an1_a)\n",
    "        v_ca1 = self.rec.cath(ca1_a)\n",
    "        v_ca0 = self.rec.cath(ca0_a)\n",
    "        # curves\n",
    "        ax1.axhline(y=-v_an0, color=self.bc[\"fill_aged\"], linestyle=\":\", linewidth=1)\n",
    "        ax1.axhline(y=-v_an1, color=self.bc[\"fill_aged\"], linestyle=\":\", linewidth=1)\n",
    "        ax1.axhline(y=-v_ca0, color=self.bc[\"fill_aged\"], linestyle=\":\", linewidth=1)\n",
    "        ax1.axhline(y=-v_ca1, color=self.bc[\"fill_aged\"], linestyle=\":\", linewidth=1)\n",
    "\n",
    "        # Reconstruct cell voltage\n",
    "        V_cell, V_ca, V_an, sol_an, sol_ca = self.rec.reconstruct_voltage(\n",
    "            an0_a, ca0_a, an1_a, ca1_a, \"charge\",soc_vec)\n",
    "        \n",
    "        ax2.plot(soc_vec,V_cell)\n",
    "\n",
    "        # (soc_full, sa_b, Va_b, dQa_b, sc_b, Vc_b, dQc_b, Vcell_b) = self._compute_electrode_curves(\n",
    "        #     0, 1, 1, 0, 'charge')\n",
    "\n",
    "        \n",
    "\n",
    "        # aged tanks fill\n",
    "        # mask_a = soc_full <= soc\n",
    "        # Determine voltage for soc\n",
    "        sol_an_cur = an0_a+(an1_a-an0_a)*(soc)\n",
    "        sol_ca_cur = ca0_a+(ca1_a-ca0_a)*(soc)\n",
    "        sol_an_vec = np.linspace(0,sol_an_cur,100)\n",
    "        sol_ca_vec = np.linspace(0,sol_ca_cur,100)\n",
    "        V_an_cur = self.rec.an(np.linspace(0,sol_an_cur,100))\n",
    "        V_ca_cur = self.rec.cath(np.linspace(0,sol_ca_cur,100))\n",
    "        dQ_an_cur = interpolate(soc_vec,dQdV_an,sol_an_vec)\n",
    "        dQ_cath_cur = interpolate(soc_vec,dQdV_ca,sol_ca_vec)\n",
    "        ax1.fill_betweenx(-V_an_cur, -dQ_an_cur*self.rec.np_ratio*(1-lamne), dQ_an_cur*self.rec.np_ratio*(1-lamne), color=bc['ca_aged'], alpha=0.5)\n",
    "        ax1.fill_betweenx(-V_ca_cur, -dQ_cath_cur*(1-lampe), dQ_cath_cur*(1-lampe), color=bc['ca_aged'], alpha=0.5)\n",
    "        \n",
    "        # delta V arrow\n",
    "        dV = -V_an_cur[-1].min() + V_ca_cur[-1].max()\n",
    "        ax1.annotate('', xy=(0, -V_an_cur[-1].min()), xytext=(0,-V_ca_cur[-1].max()),\n",
    "                     arrowprops=dict(arrowstyle='<->', color=bc['delta'], lw=2))\n",
    "        ymid = -0.5*(V_an_cur[-1].min() + V_ca_cur[-1].max())\n",
    "        ax1.text(0.1, ymid, f'ΔV={dV:.3f} V', color=bc['delta'])\n",
    "\n",
    "        # Labels etc.\n",
    "        ax1.set_xlabel('dQ/dV [Ah/V]')\n",
    "        ax1.set_ylabel('Voltage [V]')\n",
    "        ax1.set_xlim(-5, 5)\n",
    "        ax1.set_ylim(-5, 0)\n",
    "        yticks = np.arange(-5, 1, 1)\n",
    "        ax1.set_yticks(yticks)\n",
    "        ax1.legend(loc='center left')\n",
    "        ax1.grid(True)\n",
    "        #Get BOL and aged OCV curves         \n",
    "        (soc_full, sa_b, Va_b, dQa_b, sc_b, Vc_b, dQc_b, Vcell_b) = self._compute_electrode_curves(\n",
    "           an0_bol, cath0_bol, an1_bol, cath1_bol, 'charge')\n",
    "        (soc_full, sa_a, Va_a, dQa_a, sc_a, Vc_a, dQc_a, Vcell_a) = self._compute_electrode_curves(\n",
    "            an0_a, ca0_a, an1_a, ca1_a, 'charge')\n",
    "        # Plot OCV curve\n",
    "        ax2.plot(soc_full, Vcell_b, color=bc['ca_aged'], label='Cell BOL', linestyle=\"--\")\n",
    "        ax2.plot(soc_full, Vcell_a, color=bc['ca_aged'], )\n",
    "        # Plot Current SOC point\n",
    "        ax2.plot(soc,dV,color=bc[\"ca_aged\"],marker=\"o\",markersize=5)\n",
    "        ax2.set_xlabel('SOC')\n",
    "        ax2.set_ylabel('Voltage [V]')\n",
    "        ax2.legend()\n",
    "        ax2.grid(True)\n",
    "        ax2.set_xlim(0,1)\n",
    "        plt.tight_layout()\n",
    "        plt.show()"
   ]
  },
  {
   "cell_type": "code",
   "execution_count": 84,
   "id": "2d40c2c3",
   "metadata": {},
   "outputs": [],
   "source": [
    "import pybamm\n",
    "import ipywidgets as widgets\n",
    "\n",
    "# Gemeinsame Initialisierung\n",
    "param      = pybamm.ParameterValues(\"Chen2020\")\n",
    "ocv_anode   = param[\"Negative electrode OCP [V]\"]\n",
    "ocv_cathode = param[\"Positive electrode OCP [V]\"]\n",
    "\n",
    "# Start‑Parameter\n",
    "np_ratio0 = 1.0\n",
    "v_min0    = 2.8\n",
    "v_max0    = 4.2\n",
    "\n",
    "cell_rec = CellOCVReconstruction(\n",
    "    cath_ocv_func=ocv_cathode,\n",
    "    an_ocv_func=ocv_anode,\n",
    "    np_ratio=np_ratio0,\n",
    "    v_min=v_min0,\n",
    "    v_max=v_max0\n",
    ")\n",
    "plotter = BatteryTankPlotter(cell_rec, resolution=500)\n"
   ]
  },
  {
   "cell_type": "code",
   "execution_count": null,
   "id": "ce021af5",
   "metadata": {},
   "outputs": [
    {
     "data": {
      "application/vnd.jupyter.widget-view+json": {
       "model_id": "1f02b7f8307448759838628979b04c44",
       "version_major": 2,
       "version_minor": 0
      },
      "text/plain": [
       "interactive(children=(FloatSlider(value=0.5, description='SOC', max=1.0, step=0.01), Output()), _dom_classes=(…"
      ]
     },
     "metadata": {},
     "output_type": "display_data"
    },
    {
     "data": {
      "text/plain": [
       "<function __main__.update_only_soc(soc)>"
      ]
     },
     "execution_count": 85,
     "metadata": {},
     "output_type": "execute_result"
    }
   ],
   "source": [
    "# Widget 1: Nur SOC\n",
    "def update_only_soc(soc):\n",
    "    plotter.plot(soc=soc, lampe=0, lamne=0, lli=0)\n",
    "\n",
    "widgets.interact(\n",
    "    update_only_soc,\n",
    "    soc=widgets.FloatSlider(min=0, max=1, step=0.01, value=0.5, description='SOC')\n",
    ")\n"
   ]
  },
  {
   "cell_type": "code",
   "execution_count": null,
   "id": "dc3b24a8",
   "metadata": {},
   "outputs": [
    {
     "data": {
      "application/vnd.jupyter.widget-view+json": {
       "model_id": "13fd1d556fe040d49f2364d2d30639ea",
       "version_major": 2,
       "version_minor": 0
      },
      "text/plain": [
       "interactive(children=(FloatSlider(value=0.5, description='SOC', max=1.0, step=0.01), FloatSlider(value=2.8, de…"
      ]
     },
     "metadata": {},
     "output_type": "display_data"
    },
    {
     "data": {
      "text/plain": [
       "<function __main__.update_soc_vlimits(soc, v_min, v_max)>"
      ]
     },
     "execution_count": 83,
     "metadata": {},
     "output_type": "execute_result"
    }
   ],
   "source": [
    "# Widget 2: SOC & Spannungslimits\n",
    "def update_soc_vlimits(soc, v_min, v_max):\n",
    "    cell_rec.v_min = v_min\n",
    "    cell_rec.v_max = v_max\n",
    "    plotter.plot(soc=soc, lampe=0, lamne=0, lli=0)\n",
    "\n",
    "widgets.interact(\n",
    "    update_soc_vlimits,\n",
    "    soc=   widgets.FloatSlider(min=0, max=1, step=0.01, value=0.5, description='SOC'),\n",
    "    v_min= widgets.FloatSlider(min=2.0, max=3.5, step=0.01, value=v_min0, description='V_min'),\n",
    "    v_max= widgets.FloatSlider(min=3.5, max=4.5, step=0.01, value=v_max0, description='V_max'),\n",
    ")\n"
   ]
  },
  {
   "cell_type": "code",
   "execution_count": null,
   "id": "57054e94",
   "metadata": {},
   "outputs": [
    {
     "data": {
      "application/vnd.jupyter.widget-view+json": {
       "model_id": "c9f230eaf343473591fcef665080f67b",
       "version_major": 2,
       "version_minor": 0
      },
      "text/plain": [
       "interactive(children=(FloatSlider(value=0.5, description='SOC', max=1.0, step=0.01), FloatSlider(value=1.0, de…"
      ]
     },
     "metadata": {},
     "output_type": "display_data"
    },
    {
     "data": {
      "text/plain": [
       "<function __main__.update_soc_npratio(soc, np_ratio)>"
      ]
     },
     "execution_count": 88,
     "metadata": {},
     "output_type": "execute_result"
    }
   ],
   "source": [
    "# Widget 3: SOC & N:P-Ratio\n",
    "def update_soc_npratio(soc, np_ratio):\n",
    "    cell_rec.np_ratio = np_ratio\n",
    "    plotter.plot(soc=soc, lampe=0, lamne=0, lli=0)\n",
    "\n",
    "widgets.interact(\n",
    "    update_soc_npratio,\n",
    "    soc=     widgets.FloatSlider(min=0, max=1, step=0.01, value=0.5, description='SOC'),\n",
    "    np_ratio=widgets.FloatSlider(min=0.9, max=2.0, step=0.05, value=np_ratio0, description='N:P ratio'),\n",
    ")"
   ]
  },
  {
   "cell_type": "code",
   "execution_count": 86,
   "id": "0c642f52",
   "metadata": {},
   "outputs": [
    {
     "data": {
      "application/vnd.jupyter.widget-view+json": {
       "model_id": "8f7581aea71845faa4e781d5c1c236aa",
       "version_major": 2,
       "version_minor": 0
      },
      "text/plain": [
       "interactive(children=(FloatSlider(value=0.5, description='SOC', max=1.0, step=0.01), FloatSlider(value=0.0, de…"
      ]
     },
     "metadata": {},
     "output_type": "display_data"
    },
    {
     "data": {
      "text/plain": [
       "<function __main__.update_soc_aging(soc, lampe, lamne, lli)>"
      ]
     },
     "execution_count": 86,
     "metadata": {},
     "output_type": "execute_result"
    }
   ],
   "source": [
    "# Widget 4: SOC & Aging‑Parameter\n",
    "def update_soc_aging(soc, lampe, lamne, lli):\n",
    "    plotter.plot(soc=soc, lampe=lampe, lamne=lamne, lli=lli)\n",
    "\n",
    "widgets.interact(\n",
    "    update_soc_aging,\n",
    "    soc=   widgets.FloatSlider(min=0, max=1, step=0.01, value=0.5, description='SOC'),\n",
    "    lampe= widgets.FloatSlider(min=0, max=0.3, step=0.01, value=0.0, description='LAMPE'),\n",
    "    lamne= widgets.FloatSlider(min=0, max=0.3, step=0.01, value=0.0, description='LAMNE'),\n",
    "    lli=   widgets.FloatSlider(min=0, max=0.3, step=0.01, value=0.0, description='LLI'),\n",
    ")\n"
   ]
  }
 ],
 "metadata": {
  "kernelspec": {
   "display_name": "venv",
   "language": "python",
   "name": "python3"
  },
  "language_info": {
   "codemirror_mode": {
    "name": "ipython",
    "version": 3
   },
   "file_extension": ".py",
   "mimetype": "text/x-python",
   "name": "python",
   "nbconvert_exporter": "python",
   "pygments_lexer": "ipython3",
   "version": "3.11.9"
  }
 },
 "nbformat": 4,
 "nbformat_minor": 5
}
