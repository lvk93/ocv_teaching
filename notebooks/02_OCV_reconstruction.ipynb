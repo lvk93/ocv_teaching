{
 "cells": [
  {
   "cell_type": "markdown",
   "id": "9fe89af0",
   "metadata": {},
   "source": [
    "# Notebook to create examplary plots"
   ]
  },
  {
   "cell_type": "code",
   "execution_count": 1,
   "id": "8682acc1",
   "metadata": {},
   "outputs": [],
   "source": [
    "import numpy as np\n",
    "import pandas as pd\n",
    "import matplotlib.pyplot as plt\n",
    "\n",
    "# Adjust path if the package is not installed\n",
    "import sys\n",
    "sys.path.append('.')  # Assumes root contains battery_ocv_toolbox/\n",
    "# Import the package\n",
    "from ocv_teaching import OCV, ActiveMaterial, OCVBlending, CellOCVReconstruction\n",
    "from ocv_teaching.plot_ocv import plot_ocv"
   ]
  },
  {
   "cell_type": "markdown",
   "id": "00bf9cd4",
   "metadata": {},
   "source": [
    "## Load data"
   ]
  },
  {
   "cell_type": "code",
   "execution_count": null,
   "id": "3a5c47e1",
   "metadata": {},
   "outputs": [],
   "source": [
    "NCM811_df = pd.read_csv('../ocv_data/NMC811_half_cell_ocv.csv')\n",
    "Graphite_df = pd.read_csv('../ocv_data/Graphite_half_cell_ocv.csv')"
   ]
  },
  {
   "cell_type": "markdown",
   "id": "39d08157",
   "metadata": {},
   "source": [
    "## 2. Instantiate OCV and ActiveMaterial objects "
   ]
  },
  {
   "cell_type": "code",
   "execution_count": null,
   "id": "78261d93",
   "metadata": {},
   "outputs": [],
   "source": [
    "NCM811_ocv = OCV(NCM811_df[\"SOC\"], NCM811_df[\"Voltage\"], NCM811_df[\"Voltage\"])\n",
    "Graphite_ocv = OCV(Graphite_df[\"SOC\"], Graphite_df[\"Voltage\"], Graphite_df[\"Voltage\"])\n",
    "NCM811_mat = ActiveMaterial(NCM811_ocv, specific_capacity=212, formation_loss=0.09)\n",
    "Graphite_mat = ActiveMaterial(Graphite_ocv, specific_capacity=372, formation_loss=0.08)\n"
   ]
  },
  {
   "cell_type": "markdown",
   "id": "42278167",
   "metadata": {},
   "source": [
    "# 3. Reconstruct full cell"
   ]
  },
  {
   "cell_type": "code",
   "execution_count": null,
   "id": "fe4c9ab4",
   "metadata": {},
   "outputs": [],
   "source": [
    "ocv_rec = CellOCVReconstruction(NCM811_mat, Graphite_mat)\n",
    "soc,v_cath,v_an,v_cell=ocv_rec.reconstruct(np_ratio=1.1, vmin=3, vmax=4.2)"
   ]
  }
 ],
 "metadata": {
  "kernelspec": {
   "display_name": "venv",
   "language": "python",
   "name": "python3"
  },
  "language_info": {
   "codemirror_mode": {
    "name": "ipython",
    "version": 3
   },
   "file_extension": ".py",
   "mimetype": "text/x-python",
   "name": "python",
   "nbconvert_exporter": "python",
   "pygments_lexer": "ipython3",
   "version": "3.11.9"
  }
 },
 "nbformat": 4,
 "nbformat_minor": 5
}
