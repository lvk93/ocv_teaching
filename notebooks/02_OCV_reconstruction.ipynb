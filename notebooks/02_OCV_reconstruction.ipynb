{
 "cells": [
  {
   "cell_type": "markdown",
   "id": "9fe89af0",
   "metadata": {},
   "source": [
    "# Notebook to create examplary plots"
   ]
  },
  {
   "cell_type": "code",
   "execution_count": null,
   "id": "8682acc1",
   "metadata": {},
   "outputs": [
    {
     "ename": "ModuleNotFoundError",
     "evalue": "No module named 'utils'",
     "output_type": "error",
     "traceback": [
      "\u001b[31m---------------------------------------------------------------------------\u001b[39m",
      "\u001b[31mModuleNotFoundError\u001b[39m                       Traceback (most recent call last)",
      "\u001b[36mCell\u001b[39m\u001b[36m \u001b[39m\u001b[32mIn[1]\u001b[39m\u001b[32m, line 11\u001b[39m\n\u001b[32m      9\u001b[39m \u001b[38;5;28;01mfrom\u001b[39;00m\u001b[38;5;250m \u001b[39m\u001b[34;01mocv_teaching\u001b[39;00m\u001b[38;5;250m \u001b[39m\u001b[38;5;28;01mimport\u001b[39;00m OCV, ActiveMaterial, OCVBlending, CellOCVReconstruction\n\u001b[32m     10\u001b[39m \u001b[38;5;28;01mfrom\u001b[39;00m\u001b[38;5;250m \u001b[39m\u001b[34;01mocv_teaching\u001b[39;00m\u001b[34;01m.\u001b[39;00m\u001b[34;01mplot_ocv\u001b[39;00m\u001b[38;5;250m \u001b[39m\u001b[38;5;28;01mimport\u001b[39;00m plot_ocv\n\u001b[32m---> \u001b[39m\u001b[32m11\u001b[39m \u001b[38;5;28;01mfrom\u001b[39;00m\u001b[38;5;250m \u001b[39m\u001b[34;01mutils\u001b[39;00m\u001b[38;5;250m \u001b[39m\u001b[38;5;28;01mimport\u001b[39;00m interpolate\n",
      "\u001b[31mModuleNotFoundError\u001b[39m: No module named 'utils'"
     ]
    }
   ],
   "source": [
    "import numpy as np\n",
    "import pandas as pd\n",
    "import matplotlib.pyplot as plt\n",
    "\n",
    "# Adjust path if the package is not installed\n",
    "import sys\n",
    "sys.path.append('.')  # Assumes root contains battery_ocv_toolbox/\n",
    "# Import the package\n",
    "from ocv_teaching import OCV, ActiveMaterial, OCVBlending, CellOCVReconstruction\n",
    "from ocv_teaching.plot_ocv import plot_ocv\n",
    "from ocv_teaching.utils import interpolate"
   ]
  },
  {
   "cell_type": "markdown",
   "id": "00bf9cd4",
   "metadata": {},
   "source": [
    "## Load data"
   ]
  },
  {
   "cell_type": "code",
   "execution_count": null,
   "id": "3a5c47e1",
   "metadata": {},
   "outputs": [],
   "source": [
    "NCM811_df = pd.read_csv('../ocv_data/NMC811_half_cell_ocv.csv')\n",
    "Graphite_df = pd.read_csv('../ocv_data/Graphite_half_cell_ocv.csv')"
   ]
  },
  {
   "cell_type": "markdown",
   "id": "39d08157",
   "metadata": {},
   "source": [
    "## 2. Instantiate OCV and ActiveMaterial objects "
   ]
  },
  {
   "cell_type": "code",
   "execution_count": null,
   "id": "78261d93",
   "metadata": {},
   "outputs": [],
   "source": [
    "NCM811_ocv = OCV(NCM811_df[\"SOC\"], NCM811_df[\"Voltage\"], NCM811_df[\"Voltage\"])\n",
    "Graphite_ocv = OCV(Graphite_df[\"SOC\"], Graphite_df[\"Voltage\"], Graphite_df[\"Voltage\"])\n",
    "NCM811_mat = ActiveMaterial(NCM811_ocv, specific_capacity=212, formation_loss=0.09)\n",
    "Graphite_mat = ActiveMaterial(Graphite_ocv, specific_capacity=372, formation_loss=0.08)\n"
   ]
  },
  {
   "cell_type": "markdown",
   "id": "42278167",
   "metadata": {},
   "source": [
    "# 3. Reconstruct full cell"
   ]
  },
  {
   "cell_type": "code",
   "execution_count": null,
   "id": "fe4c9ab4",
   "metadata": {},
   "outputs": [],
   "source": [
    "ocv_rec = CellOCVReconstruction(NCM811_mat, Graphite_mat)\n",
    "an0, cath0, an1, cath1=ocv_rec.reconstruct(np_ratio=1.1, v_min=3, v_max=4.2)"
   ]
  },
  {
   "cell_type": "markdown",
   "id": "c35e07ae",
   "metadata": {},
   "source": [
    "Plot the full cell by creating ocvs"
   ]
  },
  {
   "cell_type": "code",
   "execution_count": null,
   "id": "2a9e97da",
   "metadata": {},
   "outputs": [
    {
     "ename": "NameError",
     "evalue": "name 'interpolate' is not defined",
     "output_type": "error",
     "traceback": [
      "\u001b[31m---------------------------------------------------------------------------\u001b[39m",
      "\u001b[31mNameError\u001b[39m                                 Traceback (most recent call last)",
      "\u001b[36mCell\u001b[39m\u001b[36m \u001b[39m\u001b[32mIn[7]\u001b[39m\u001b[32m, line 4\u001b[39m\n\u001b[32m      2\u001b[39m soc_an = (an1-an0) * soc_vec + an0\n\u001b[32m      3\u001b[39m soc_cath = (cath1-cath0) * soc_vec + cath0\n\u001b[32m----> \u001b[39m\u001b[32m4\u001b[39m volt_cath_cha = \u001b[43minterpolate\u001b[49m(NCM811_ocv.soc, NCM811_ocv.get_voltage(\u001b[33m\"\u001b[39m\u001b[33mcharge\u001b[39m\u001b[33m\"\u001b[39m), soc_cath)\n\u001b[32m      5\u001b[39m volt_an_cha = interpolate(Graphite_ocv.soc, Graphite_ocv.get_voltage(\u001b[33m\"\u001b[39m\u001b[33mcharge\u001b[39m\u001b[33m\"\u001b[39m), soc_an)\n\u001b[32m      6\u001b[39m volt_cell_cha = volt_cath_cha - volt_an_cha \n",
      "\u001b[31mNameError\u001b[39m: name 'interpolate' is not defined"
     ]
    }
   ],
   "source": [
    "soc_vec = np.linspace(0, 1, 100)\n",
    "soc_an = (an1-an0) * soc_vec + an0\n",
    "soc_cath = (cath1-cath0) * soc_vec + cath0\n",
    "volt_cath_cha = interpolate(NCM811_ocv.soc, NCM811_ocv.get_voltage(\"charge\"), soc_cath)\n",
    "volt_an_cha = interpolate(Graphite_ocv.soc, Graphite_ocv.get_voltage(\"charge\"), soc_an)\n",
    "volt_cell_cha = volt_cath_cha - volt_an_cha "
   ]
  },
  {
   "cell_type": "code",
   "execution_count": null,
   "id": "fa7e3d96",
   "metadata": {},
   "outputs": [],
   "source": [
    "curves = [{'x': soc_vec, 'y': volt_cell_cha,'label': \"Full cell\"},\n",
    "          {'x': soc_vec, 'y': volt_cath_cha, 'label': \"Cathode\"},\n",
    "          {'x': soc_vec, 'y': volt_an_cha, 'label': \"Anode\"}]\n",
    "plot_ocv(curves, \n",
    "         x_label='Stat of charge (SoC)', \n",
    "         y_label='Voltage (V)', \n",
    "         x_lim=[0, 1], \n",
    "         y_lim=[0, 5], \n",
    "         legend_loc='best', \n",
    "         figsize=(8, 6), \n",
    "         grid=True)"
   ]
  }
 ],
 "metadata": {
  "kernelspec": {
   "display_name": "venv",
   "language": "python",
   "name": "python3"
  },
  "language_info": {
   "codemirror_mode": {
    "name": "ipython",
    "version": 3
   },
   "file_extension": ".py",
   "mimetype": "text/x-python",
   "name": "python",
   "nbconvert_exporter": "python",
   "pygments_lexer": "ipython3",
   "version": "3.11.9"
  }
 },
 "nbformat": 4,
 "nbformat_minor": 5
}
