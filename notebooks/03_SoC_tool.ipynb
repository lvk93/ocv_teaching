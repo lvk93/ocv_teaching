{
 "cells": [
  {
   "cell_type": "markdown",
   "id": "566f229f",
   "metadata": {},
   "source": [
    "# Notebook Section 1: Exploring Battery Design Parameters"
   ]
  },
  {
   "cell_type": "markdown",
   "id": "c3d0977b",
   "metadata": {},
   "source": [
    "# 🔋 Exploring Battery Behavior with μₗᵢ Diagrams\n",
    "\n",
    "This notebook lets you explore how design decisions and aging phenomena affect the internal behavior of lithium-ion batteries — using the concept of *lithium chemical potential* (μₗᵢ). Each electrode is visualized as a \"tank\" whose fill level corresponds to its lithiation state. \n",
    "\n",
    "We plot μₗᵢ vs. SoL (State of Lithiation), where:\n",
    "\n",
    "$$\n",
    "U = -\\frac{\\mu_{\\text{Li}}}{F}\n",
    "$$\n",
    "\n",
    "This provides a powerful lens to understand cell voltage, usable SoC, and degradation mechanisms.\n",
    "\n",
    "\n"
   ]
  },
  {
   "cell_type": "markdown",
   "id": "711e4dfa",
   "metadata": {},
   "source": [
    "## Setting everything up"
   ]
  },
  {
   "cell_type": "markdown",
   "id": "07fbab6d",
   "metadata": {},
   "source": [
    "Importing packages"
   ]
  },
  {
   "cell_type": "code",
   "execution_count": 1,
   "id": "8b6e81e7",
   "metadata": {},
   "outputs": [],
   "source": [
    "# Adjust path if the package is not installed\n",
    "import sys\n",
    "sys.path.append('.')  # Assumes root contains battery_ocv_toolbox/\n",
    "# Import the package\n",
    "from ocv_teaching.battery_mu_plot import BatteryMuPlot\n",
    "from ocv_teaching.battery_mu_comparison import BatteryMuComparison\n",
    "import pandas as pd\n",
    "from scipy.interpolate import interp1d\n"
   ]
  },
  {
   "cell_type": "markdown",
   "id": "d2a25ff4",
   "metadata": {},
   "source": [
    "Loading data"
   ]
  },
  {
   "cell_type": "code",
   "execution_count": 2,
   "id": "967752e5",
   "metadata": {},
   "outputs": [],
   "source": [
    "NCM811_df = pd.read_csv('../ocv_data/NMC811_half_cell_ocv.csv')\n",
    "Graphite_df = pd.read_csv('../ocv_data/Graphite_half_cell_ocv.csv')\n",
    "def ocv_anode(soc):\n",
    "    \"\"\"Returns the OCV of the anode at a given SoC.\"\"\"\n",
    "    f = interp1d(Graphite_df['SOC'], Graphite_df['Voltage'], bounds_error=False, fill_value=\"extrapolate\")\n",
    "    return f(soc)\n",
    "def ocv_cathode(soc):\n",
    "    \"\"\"Returns the OCV of the cathode at a given SoC.\"\"\"\n",
    "    f = interp1d(NCM811_df['SOC'], NCM811_df['Voltage'], bounds_error=False, fill_value=\"extrapolate\")\n",
    "    return f(soc)"
   ]
  },
  {
   "cell_type": "markdown",
   "id": "869610e3",
   "metadata": {},
   "source": [
    "\n",
    "## 🎚️ SoC, Voltage Limits, and NP Ratio\n",
    "\n",
    "Instead of defining SoC directly from capacity, we derive it from voltage limits:\n",
    "\n",
    "- **SoC = 0** corresponds to the lower cutoff voltage (Vmin)  \n",
    "- **SoC = 1** corresponds to the upper cutoff voltage (Vmax)\n",
    "\n",
    "This lets us study how design choices shift the lithiation range within physical limits.\n",
    "\n",
    "### ⚖️ NP Ratio (Capacity Balancing)\n",
    "\n",
    "The **NP ratio** (Anode-to-Cathode capacity ratio) controls how much lithium the anode can absorb, relative to the cathode:\n",
    "\n",
    "$$\n",
    "\\text{NP ratio} = \\frac{\\text{Anode capacity}}{\\text{Cathode capacity}}\n",
    "$$\n",
    "\n",
    "Changing the NP ratio:\n",
    "- Alters the voltage profile at a fixed SoC\n",
    "- Impacts the risk of lithium plating\n",
    "- Shifts how SoL is split between electrodes\n",
    "\n",
    "Try varying NP ratio interactively to see how the curves move!\n",
    "\n",
    "---"
   ]
  },
  {
   "cell_type": "code",
   "execution_count": 3,
   "id": "980b6b09",
   "metadata": {},
   "outputs": [
    {
     "data": {
      "application/vnd.jupyter.widget-view+json": {
       "model_id": "1e9f30e955f04f4cb27b21f579aacaf7",
       "version_major": 2,
       "version_minor": 0
      },
      "text/plain": [
       "interactive(children=(FloatSlider(value=0.5, description='SoC', max=1.0, step=0.01), FloatSlider(value=1.0, de…"
      ]
     },
     "metadata": {},
     "output_type": "display_data"
    },
    {
     "data": {
      "text/plain": [
       "<function __main__.interactive_mu_plot(soc=0.5, np_ratio=1.0)>"
      ]
     },
     "execution_count": 3,
     "metadata": {},
     "output_type": "execute_result"
    }
   ],
   "source": [
    "from ipywidgets import interact, FloatSlider\n",
    "\n",
    "def interactive_mu_plot(soc=0.5, np_ratio=1.0):\n",
    "    plotter = BatteryMuPlot(\n",
    "        ocv_anode=ocv_anode,\n",
    "        ocv_cathode=ocv_cathode,\n",
    "        np_ratio=np_ratio,\n",
    "        v_min=2.5,\n",
    "        v_max=4.2\n",
    "    )\n",
    "    plotter.set_soc(soc)\n",
    "    plotter.annotate_soc()\n",
    "\n",
    "interact(\n",
    "    interactive_mu_plot,\n",
    "    soc=FloatSlider(min=0.0, max=1.0, step=0.01, value=0.5, description=\"SoC\"),\n",
    "    np_ratio=FloatSlider(min=0.8, max=1.5, step=0.01, value=1.0, description=\"NP Ratio\")\n",
    ")\n"
   ]
  },
  {
   "cell_type": "markdown",
   "id": "2d12552f",
   "metadata": {},
   "source": [
    "## 🧓 Aging Modes and Their Impact\n",
    "\n",
    "As batteries age, they degrade through several mechanisms. This tool supports three key aging modes:\n",
    "\n",
    "- **LLI (Loss of Lithium Inventory)**  \n",
    "  → Reduces total lithium available to shuttle between electrodes\n",
    "\n",
    "- **LAM_cath (Loss of Active Material - Cathode)**  \n",
    "  → Shrinks usable cathode capacity (SoL_cath range)\n",
    "\n",
    "- **LAM_an (Loss of Active Material - Anode)**  \n",
    "  → Shrinks usable anode capacity (SoL_an range)\n",
    "\n",
    "These aging effects:\n",
    "- Shift the lithium balance\n",
    "- Change the Δμ between electrodes (i.e., the cell voltage)\n",
    "- Reduce usable SoC even if voltage limits stay constant\n",
    "\n",
    "---\n",
    "\n",
    "## 🆚 BOL vs. Aged Cell Comparison\n",
    "\n",
    "Use the comparison tool to overlay **BOL** and **aged** behavior in one diagram:\n",
    "\n",
    "- **Dashed curves** show the BOL reference\n",
    "- **Solid curves** show the aged cell\n",
    "- Fill areas illustrate how lithium fills each electrode\n",
    "- An arrow shows the Δμ corresponding to the full-cell voltage\n",
    "\n",
    "This makes it easy to **see what changed**:  \n",
    "Is the voltage lower at the same SoC? Has the lithium shifted to one side? Are the electrodes asymmetrically constrained?\n",
    "\n",
    "---\n",
    "\n",
    "## 💡 Suggested Explorations\n",
    "\n",
    "- Set SoC = 0.5 and vary **NP ratio**. What happens to the voltage?\n",
    "- Fix NP ratio and apply **LLI**. Does the anode SoL move?\n",
    "- Try different combinations of **LAM_anode** and **LAM_cathode**. When do you lose SoC range?\n",
    "\n",
    "---\n",
    "\n",
    "This visualization gives a clear, physical sense of how batteries behave — and how design and aging change the electrochemical balance inside the cell."
   ]
  },
  {
   "cell_type": "code",
   "execution_count": 4,
   "id": "7e964613",
   "metadata": {},
   "outputs": [
    {
     "data": {
      "application/vnd.jupyter.widget-view+json": {
       "model_id": "7e695936a0cc411e9552e5d09622bf72",
       "version_major": 2,
       "version_minor": 0
      },
      "text/plain": [
       "interactive(children=(FloatSlider(value=0.5, description='SoC', max=1.0, step=0.01), FloatSlider(value=0.0, de…"
      ]
     },
     "metadata": {},
     "output_type": "display_data"
    }
   ],
   "source": [
    "from ipywidgets import interact, FloatSlider\n",
    "\n",
    "def interactive_aging_comparison(soc=0.5, lli=0.0, lam_cath=0.0, lam_anode=0.0):\n",
    "    # Create BOL plot\n",
    "    bol = BatteryMuPlot(ocv_anode, ocv_cathode, np_ratio=1.1, v_min=2.5, v_max=4.2)\n",
    "    bol.set_soc(soc)\n",
    "\n",
    "    # Create aged plot with aging mode\n",
    "    aged = BatteryMuPlot(ocv_anode, ocv_cathode, np_ratio=1.0, v_min=2.5, v_max=4.2)\n",
    "    aged.set_aging_mode('custom', lli=lli, lam_cath=lam_cath, lam_anode=lam_anode)\n",
    "    aged.set_soc(soc)\n",
    "\n",
    "    # Compare and plot\n",
    "    comp = BatteryMuComparison(aged, bol)\n",
    "    comp.plot_comparison()\n",
    "interact(\n",
    "    interactive_aging_comparison,\n",
    "    soc=FloatSlider(min=0.0, max=1.0, step=0.01, value=0.5, description=\"SoC\"),\n",
    "    lli=FloatSlider(min=0.0, max=0.2, step=0.01, value=0.0, description=\"LLI\"),\n",
    "    lam_cath=FloatSlider(min=0.0, max=0.2, step=0.01, value=0.0, description=\"LAM cath\"),\n",
    "    lam_anode=FloatSlider(min=0.0, max=0.2, step=0.01, value=0.0, description=\"LAM anode\"),\n",
    ");\n"
   ]
  }
 ],
 "metadata": {
  "kernelspec": {
   "display_name": "venv",
   "language": "python",
   "name": "python3"
  },
  "language_info": {
   "codemirror_mode": {
    "name": "ipython",
    "version": 3
   },
   "file_extension": ".py",
   "mimetype": "text/x-python",
   "name": "python",
   "nbconvert_exporter": "python",
   "pygments_lexer": "ipython3",
   "version": "3.11.9"
  }
 },
 "nbformat": 4,
 "nbformat_minor": 5
}
