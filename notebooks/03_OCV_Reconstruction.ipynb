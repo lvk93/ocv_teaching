{
 "cells": [
  {
   "cell_type": "code",
   "execution_count": 1,
   "id": "d6cb99e6",
   "metadata": {},
   "outputs": [],
   "source": [
    "import pybamm\n",
    "from ocv_teaching import OCV, ActiveMaterial, OCVBlending, CellOCVReconstruction\n",
    "\n",
    "# Load parameterized OCV functions\n",
    "param = pybamm.ParameterValues(\"Chen2020\")\n",
    "ocv_anode = param[\"Negative electrode OCP [V]\"]\n",
    "ocv_cathode = param[\"Positive electrode OCP [V]\"]\n",
    "\n",
    "cell = CellOCVReconstruction(\n",
    "    cath_ocv_func=ocv_cathode,\n",
    "    an_ocv_func=ocv_anode,\n",
    "    np_ratio=1.1,\n",
    "    v_min=2.5,\n",
    "    v_max=4.2,\n",
    ")\n",
    "\n",
    "# Get stoichiometries\n",
    "an0, cath0, an1, cath1 = cell.get_stoichiometries()\n",
    "\n",
    "# Get voltage curve\n",
    "volt_cell, volt_cath, volt_an = cell.reconstruct_voltage(an0, cath0, an1, cath1)\n",
    "\n"
   ]
  },
  {
   "cell_type": "code",
   "execution_count": 1,
   "id": "2d79c1a9",
   "metadata": {},
   "outputs": [],
   "source": [
    "import numpy as np\n",
    "import pandas as pd\n",
    "import matplotlib.pyplot as plt\n",
    "\n",
    "# Adjust path if the package is not installed\n",
    "import sys\n",
    "sys.path.append('.')  # Assumes root contains battery_ocv_toolbox/\n",
    "# Import the package\n",
    "from ocv_teaching import OCV, ActiveMaterial, OCVBlending, CellOCVReconstruction\n",
    "from ocv_teaching.plot_ocv import plot_ocv\n",
    "from ocv_teaching.utils import interpolate, new_plot"
   ]
  },
  {
   "cell_type": "code",
   "execution_count": 2,
   "id": "6baad27a",
   "metadata": {},
   "outputs": [],
   "source": [
    "NCM811_df = pd.read_csv('../ocv_data/NMC811_half_cell_ocv.csv')\n",
    "Graphite_df = pd.read_csv('../ocv_data/Graphite_half_cell_ocv.csv')"
   ]
  },
  {
   "cell_type": "code",
   "execution_count": 3,
   "id": "65a06be5",
   "metadata": {},
   "outputs": [],
   "source": [
    "NCM811_ocv = OCV(NCM811_df[\"SOC\"], NCM811_df[\"Voltage\"], NCM811_df[\"Voltage\"])\n",
    "Graphite_ocv = OCV(Graphite_df[\"SOC\"], Graphite_df[\"Voltage\"], Graphite_df[\"Voltage\"])\n",
    "NCM811_mat = ActiveMaterial(NCM811_ocv, specific_capacity=212, formation_loss=0.09)\n",
    "Graphite_mat = ActiveMaterial(Graphite_ocv, specific_capacity=372, formation_loss=0.08)\n"
   ]
  },
  {
   "cell_type": "markdown",
   "id": "d212e13d",
   "metadata": {},
   "source": [
    "Plot OCVs vs capacity normalized"
   ]
  },
  {
   "cell_type": "code",
   "execution_count": 4,
   "id": "1eb2e8ef",
   "metadata": {},
   "outputs": [
    {
     "data": {
      "application/vnd.jupyter.widget-view+json": {
       "model_id": "315ba8c3fb074715aff9d4a7d47e25b4",
       "version_major": 2,
       "version_minor": 0
      },
      "text/plain": [
       "interactive(children=(FloatSlider(value=1.1, description='N:P Ratio', max=1.2, min=0.9, step=0.01), FloatSlide…"
      ]
     },
     "metadata": {},
     "output_type": "display_data"
    },
    {
     "data": {
      "text/plain": [
       "<function __main__.plot_np_ratio(np_ratio, v_min, v_max)>"
      ]
     },
     "execution_count": 4,
     "metadata": {},
     "output_type": "execute_result"
    }
   ],
   "source": [
    "\n",
    "from ipywidgets import interact, FloatSlider\n",
    "def plot_np_ratio(np_ratio,v_min,v_max):\n",
    "    cell = CellOCVReconstruction(NCM811_mat, Graphite_mat, np_ratio=np_ratio, v_min=v_min, v_max=v_max)\n",
    "\n",
    "    # Reconstruct voltage of the cell over the full range\n",
    "    an0_full = cell.align_anode_cathode(1)\n",
    "    an1_full = cell.align_anode_cathode(0)\n",
    "    volt_cell_full  = cell.reconstruct_voltage(\n",
    "        an0_full, 1, an1_full, 0, direction=\"discharge\"\n",
    "    )[0]\n",
    "    # Get stoichiometeries within voltage limits\n",
    "    an0, cath0, an1, cath1 = cell.get_stoichiometries()\n",
    "    sol = np.linspace(0,1,100)\n",
    "    # Relate anode to cathode stoichiometry\n",
    "    sol_an_plot = (sol-an0_full)/(an1_full-an0_full)\n",
    "    volt_cath = interpolate(cell.cath.ocv.soc, cell.cath.ocv.get_voltage(\"charge\"), sol)\n",
    "    volt_an = interpolate(cell.an.ocv.soc, cell.an.ocv.get_voltage(\"charge\"), sol)\n",
    "\n",
    "    # Plot the results\n",
    "    battery_color={\"gray\": \"#333333\",\n",
    "                       \"bright_gray\": \"#E7E6E6\",\n",
    "                        \"gray_blue\": \"#44546A\",\n",
    "                        \"navy_blue\": \"#003B73\",\n",
    "                        \"light_blue\":\"#5DADE2\",\n",
    "                        \"orange\": \"#F39C12\",\n",
    "                        \"green\": \"#70AD47\"}\n",
    "    fig, ax = new_plot(figsize=(8, 6))\n",
    "    ax.set_xlim(0,1.2)\n",
    "    ax.set_ylim(0,4.5)\n",
    "    ax.set_ylabel(\"Voltage [V]\")\n",
    "    ax.set_xlabel(\"Normalized Capacity [Ah]\")\n",
    "    ax.grid()\n",
    "    ax.plot(sol_an_plot , volt_an, label=\"Graphite OCV\",color=battery_color[\"light_blue\"])\n",
    "    ax.plot(1-sol, volt_cath, label=\"NCM811 OCV\",color=battery_color[\"green\"])\n",
    "    ax.plot(sol,volt_cell_full, label=\"Cell OCV\", color=battery_color[\"navy_blue\"])\n",
    "    ax.hlines([v_min, v_max], 0, 1.2, linestyles='dashed', colors='black')\n",
    "    ax.plot([1-cath0,1-cath1],[v_min,v_max],marker=\"o\", color=battery_color[\"navy_blue\"],linestyle='None')\n",
    "    ax.legend(loc='right')\n",
    "\n",
    "    # ## Draw the usage span\n",
    "    # # compute the x‑coordinates of the usage span\n",
    "    start = 1 - cath0\n",
    "    end   = 1 - cath1\n",
    "    mid   = 0.5*(start + end)\n",
    "    usage = cath0 - cath1\n",
    "\n",
    "    # draw a double‑headed arrow at y=3\n",
    "    ax.annotate(\n",
    "        '',                          # no text\n",
    "        xy=(end, 3),                 # arrow head at right\n",
    "        xytext=(start, 3),           # arrow tail at left\n",
    "        arrowprops=dict(\n",
    "            arrowstyle='<->',        # double‑headed\n",
    "            color='black',\n",
    "            lw=2\n",
    "        )\n",
    "    )\n",
    "\n",
    "    # label it just above the arrow\n",
    "    ax.text(\n",
    "        mid, 3.05,                   # position (slightly above y=3)\n",
    "        f'Cathode usage = {usage:.3f}',\n",
    "        ha='center', va='bottom',\n",
    "        color='black'\n",
    "    )\n",
    "    plt.show()\n",
    "\n",
    "interact(\n",
    "    plot_np_ratio,\n",
    "    np_ratio=FloatSlider(min=0.9, max=1.2, step=0.01, value=1.1, description=\"N:P Ratio\"),\n",
    "    v_min=FloatSlider(min=2, max=3.6, step=0.01, value=2.8, description=\"Lower voltage limit\"),\n",
    "    v_max=FloatSlider(min=3.6, max=4.2, step=0.01, value=4.2, description=\"Upper voltage limit\"),\n",
    ")"
   ]
  }
 ],
 "metadata": {
  "kernelspec": {
   "display_name": "venv",
   "language": "python",
   "name": "python3"
  },
  "language_info": {
   "codemirror_mode": {
    "name": "ipython",
    "version": 3
   },
   "file_extension": ".py",
   "mimetype": "text/x-python",
   "name": "python",
   "nbconvert_exporter": "python",
   "pygments_lexer": "ipython3",
   "version": "3.11.9"
  }
 },
 "nbformat": 4,
 "nbformat_minor": 5
}
