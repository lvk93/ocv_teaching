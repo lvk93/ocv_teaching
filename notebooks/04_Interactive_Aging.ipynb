{
 "cells": [
  {
   "cell_type": "code",
   "execution_count": 1,
   "id": "2d79c1a9",
   "metadata": {},
   "outputs": [],
   "source": [
    "import numpy as np\n",
    "import pandas as pd\n",
    "import matplotlib.pyplot as plt\n",
    "\n",
    "# Adjust path if the package is not installed\n",
    "import sys\n",
    "sys.path.append('.')  # Assumes root contains battery_ocv_toolbox/\n",
    "# Import the package\n",
    "from ocv_teaching import OCV, ActiveMaterial, OCVBlending, CellOCVReconstruction\n",
    "from ocv_teaching.plot_ocv import plot_ocv\n",
    "from ocv_teaching.utils import interpolate, new_plot"
   ]
  },
  {
   "cell_type": "code",
   "execution_count": 2,
   "id": "6baad27a",
   "metadata": {},
   "outputs": [],
   "source": [
    "NCM811_df = pd.read_csv('../ocv_data/NMC811_half_cell_ocv.csv')\n",
    "Graphite_df = pd.read_csv('../ocv_data/Graphite_half_cell_ocv.csv')"
   ]
  },
  {
   "cell_type": "code",
   "execution_count": 3,
   "id": "65a06be5",
   "metadata": {},
   "outputs": [],
   "source": [
    "NCM811_ocv = OCV(NCM811_df[\"SOC\"], NCM811_df[\"Voltage\"], NCM811_df[\"Voltage\"])\n",
    "Graphite_ocv = OCV(Graphite_df[\"SOC\"], Graphite_df[\"Voltage\"], Graphite_df[\"Voltage\"])\n",
    "NCM811_mat = ActiveMaterial(NCM811_ocv, specific_capacity=212, formation_loss=0.09)\n",
    "Graphite_mat = ActiveMaterial(Graphite_ocv, specific_capacity=372, formation_loss=0.08)\n"
   ]
  },
  {
   "cell_type": "markdown",
   "id": "d212e13d",
   "metadata": {},
   "source": [
    "Plot OCVs vs capacity normalized"
   ]
  },
  {
   "cell_type": "code",
   "execution_count": 4,
   "id": "1eb2e8ef",
   "metadata": {},
   "outputs": [
    {
     "data": {
      "application/vnd.jupyter.widget-view+json": {
       "model_id": "518f3fe5423746fbb19d5ac22d988a39",
       "version_major": 2,
       "version_minor": 0
      },
      "text/plain": [
       "interactive(children=(FloatSlider(value=1.1, description='N:P Ratio', max=1.2, min=0.9, step=0.01), FloatSlide…"
      ]
     },
     "metadata": {},
     "output_type": "display_data"
    },
    {
     "data": {
      "text/plain": [
       "<function __main__.plot_np_ratio(np_ratio, v_min, v_max)>"
      ]
     },
     "execution_count": 4,
     "metadata": {},
     "output_type": "execute_result"
    }
   ],
   "source": [
    "\n",
    "from ipywidgets import interact, FloatSlider\n",
    "def plot_np_ratio(np_ratio,v_min,v_max):\n",
    "    cell = CellOCVReconstruction(NCM811_mat, Graphite_mat, np_ratio=np_ratio, v_min=v_min, v_max=v_max)\n",
    "\n",
    "    # Reconstruct voltage of the cell over the full range\n",
    "    an0_full = cell.align_anode_cathode(1)\n",
    "    an1_full = cell.align_anode_cathode(0)\n",
    "    volt_cell_full  = cell.reconstruct_voltage(\n",
    "        an0_full, 1, an1_full, 0, direction=\"discharge\"\n",
    "    )[0]\n",
    "    # Get stoichiometeries within voltage limits\n",
    "    an0, cath0, an1, cath1 = cell.get_stoichiometries()\n",
    "    sol = np.linspace(0,1,100)\n",
    "    # Relate anode to cathode stoichiometry\n",
    "    sol_an_plot = (sol-an0_full)/(an1_full-an0_full)\n",
    "    volt_cath = interpolate(cell.cath.ocv.soc, cell.cath.ocv.get_voltage(\"charge\"), sol)\n",
    "    volt_an = interpolate(cell.an.ocv.soc, cell.an.ocv.get_voltage(\"charge\"), sol)\n",
    "\n",
    "    # Plot the results\n",
    "    battery_color={\"gray\": \"#333333\",\n",
    "                       \"bright_gray\": \"#E7E6E6\",\n",
    "                        \"gray_blue\": \"#44546A\",\n",
    "                        \"navy_blue\": \"#003B73\",\n",
    "                        \"light_blue\":\"#5DADE2\",\n",
    "                        \"orange\": \"#F39C12\",\n",
    "                        \"green\": \"#70AD47\"}\n",
    "    fig, ax = new_plot(figsize=(8, 6))\n",
    "    ax.set_xlim(0,1.2)\n",
    "    ax.set_ylim(0,4.5)\n",
    "    ax.set_ylabel(\"Voltage [V]\")\n",
    "    ax.set_xlabel(\"Normalized Capacity [Ah]\")\n",
    "    ax.grid()\n",
    "    ax.plot(sol_an_plot , volt_an, label=\"Graphite OCV\",color=battery_color[\"light_blue\"])\n",
    "    ax.plot(1-sol, volt_cath, label=\"NCM811 OCV\",color=battery_color[\"green\"])\n",
    "    ax.plot(sol,volt_cell_full, label=\"Cell OCV\", color=battery_color[\"navy_blue\"])\n",
    "    ax.hlines([v_min, v_max], 0, 1.2, linestyles='dashed', colors='black')\n",
    "    ax.plot([1-cath0,1-cath1],[v_min,v_max],marker=\"o\", color=battery_color[\"navy_blue\"],linestyle='None')\n",
    "    ax.legend(loc='right')\n",
    "\n",
    "    # ## Draw the usage span\n",
    "    # # compute the x‑coordinates of the usage span\n",
    "    start = 1 - cath0\n",
    "    end   = 1 - cath1\n",
    "    mid   = 0.5*(start + end)\n",
    "    usage = cath0 - cath1\n",
    "\n",
    "    # draw a double‑headed arrow at y=3\n",
    "    ax.annotate(\n",
    "        '',                          # no text\n",
    "        xy=(end, 3),                 # arrow head at right\n",
    "        xytext=(start, 3),           # arrow tail at left\n",
    "        arrowprops=dict(\n",
    "            arrowstyle='<->',        # double‑headed\n",
    "            color='black',\n",
    "            lw=2\n",
    "        )\n",
    "    )\n",
    "\n",
    "    # label it just above the arrow\n",
    "    ax.text(\n",
    "        mid, 3.05,                   # position (slightly above y=3)\n",
    "        f'Cathode usage = {usage:.3f}',\n",
    "        ha='center', va='bottom',\n",
    "        color='black'\n",
    "    )\n",
    "    plt.show()\n",
    "\n",
    "interact(\n",
    "    plot_np_ratio,\n",
    "    np_ratio=FloatSlider(min=0.9, max=1.2, step=0.01, value=1.1, description=\"N:P Ratio\"),\n",
    "    v_min=FloatSlider(min=2, max=3.6, step=0.01, value=2.8, description=\"Lower voltage limit\"),\n",
    "    v_max=FloatSlider(min=3.6, max=4.2, step=0.01, value=4.2, description=\"Upper voltage limit\"),\n",
    ")"
   ]
  },
  {
   "cell_type": "code",
   "execution_count": null,
   "id": "a7175490",
   "metadata": {},
   "outputs": [
    {
     "data": {
      "application/vnd.jupyter.widget-view+json": {
       "model_id": "6afbd9eb5a2243538f30b17cad16bf4a",
       "version_major": 2,
       "version_minor": 0
      },
      "text/plain": [
       "interactive(children=(FloatSlider(value=0.0, description='LAMPE', max=0.5, step=0.01), FloatSlider(value=0.0, …"
      ]
     },
     "metadata": {},
     "output_type": "display_data"
    },
    {
     "data": {
      "text/plain": [
       "<function __main__.plot_aging_modes(LAMPE, LAMNE, LLI)>"
      ]
     },
     "execution_count": 64,
     "metadata": {},
     "output_type": "execute_result"
    }
   ],
   "source": [
    "from ocv_teaching import utils\n",
    "\n",
    "def plot_aging_modes(LAMPE,LAMNE,LLI):\n",
    "    cell = CellOCVReconstruction(NCM811_mat, Graphite_mat, np_ratio=1.1, v_min=2.8, v_max=4.2)\n",
    "\n",
    "    # Reconstruct voltage of the cell over the full range\n",
    "    an0_full = cell.align_anode_cathode(1)\n",
    "    an1_full = cell.align_anode_cathode(0)\n",
    "    volt_cell_full  = cell.reconstruct_voltage(\n",
    "        an0_full, 1, an1_full, 0, direction=\"discharge\"\n",
    "    )[0]\n",
    "    # Get stoichiometeries within voltage limits\n",
    "    an0, cath0, an1, cath1 = cell.get_stoichiometries()\n",
    "    sol = np.linspace(0,1,100)\n",
    "    # Relate anode to cathode stoichiometry\n",
    "    sol_an_plot = (sol-an0_full)/(an1_full-an0_full)\n",
    "    volt_cath = interpolate(cell.cath.ocv.soc, cell.cath.ocv.get_voltage(\"charge\"), sol)\n",
    "    volt_an = interpolate(cell.an.ocv.soc, cell.an.ocv.get_voltage(\"charge\"), sol)\n",
    "    volt_cell = cell.reconstruct_voltage(an0, cath0, an1, cath1, direction=\"charge\")[0]\n",
    "    soc_cell = (sol-cath1)/(cath0-cath1)#Cut soc cell at sol_an and sol_cath limits\n",
    "    soc_cell_clipped = np.clip(soc_cell, sol_an_plot[0], sol_an_plot[-1])\n",
    "    soc_cell_clipped = np.clip(soc_cell_clipped, sol[0], sol[-1])\n",
    "    # Cut voltages at the same limits\n",
    "    v_min = utils.interpolate(soc_cell,volt_cell,soc_cell_clipped[0])\n",
    "    v_max = utils.interpolate(soc_cell,volt_cell,soc_cell_clipped[-1])\n",
    "    volt_cell_clipped = np.clip(volt_cell, v_min, v_max)\n",
    "\n",
    "\n",
    "    ## Aged curves\n",
    "    # Apply modes\n",
    "    np_aged = cell.np_ratio*(1-LAMNE)\n",
    "    np_offset_aged = 1-(1-cell.np_offset)*(1-LLI)\n",
    "    # Align anode\n",
    "    an0 = cell.align_anode_cathode(1,np_aged, np_offset_aged)\n",
    "    an1 = cell.align_anode_cathode(0,np_aged, np_offset_aged)\n",
    "    sol_an_aged = (sol-an0)/(an1-an0)\n",
    "    sol_cath_aged = (1-sol*(1-LAMPE))\n",
    "    # Align cell\n",
    "    an0_aged, cath0_aged, an1_aged, cath1_aged = cell.get_stoichiometries(np_offset=np_offset_aged, np_ratio=np_aged)\n",
    "\n",
    "    # Correct for values below 0 or above 1\n",
    "    volt_cell_aged = cell.reconstruct_voltage(an0_aged, cath0_aged, an1_aged, cath1_aged,direction=\"charge\")[0]\n",
    "    soc_cell_aged = (sol-cath1_aged)/(cath0_aged-cath1_aged)\n",
    "    #Cut soc cell at sol_an and sol_cath limits\n",
    "    soc_cell_aged_clipped = np.clip(soc_cell_aged, sol_an_aged[0], sol_an_aged[-1])\n",
    "    soc_cell_aged_clipped = np.clip(soc_cell_aged_clipped, sol_cath_aged[-1], sol_cath_aged[0])\n",
    "    # Cut voltages at the same limits\n",
    "    v_min = utils.interpolate(soc_cell_aged,volt_cell_aged,soc_cell_aged_clipped[0])\n",
    "    v_max = utils.interpolate(soc_cell_aged,volt_cell_aged,soc_cell_aged_clipped[-1])\n",
    "    volt_cell_aged_clipped = np.clip(volt_cell_aged, v_min, v_max)\n",
    "\n",
    "    # Plot the results\n",
    "    battery_color={\"gray\": \"#333333\",\n",
    "                        \"bright_gray\": \"#E7E6E6\",\n",
    "                        \"gray_blue\": \"#44546A\",\n",
    "                        \"navy_blue\": \"#003B73\",\n",
    "                        \"light_blue\":\"#5DADE2\",\n",
    "                        \"orange\": \"#F39C12\",\n",
    "                        \"green\": \"#70AD47\"}\n",
    "    fig, ax = new_plot(figsize=(8, 6))\n",
    "    ax.set_xlim(0,1.2)\n",
    "    ax.set_ylim(0,4.5)\n",
    "    ax.set_ylabel(\"Voltage [V]\")\n",
    "    ax.set_xlabel(\"Normalized Capacity [Ah]\")\n",
    "    ax.grid()\n",
    "    ax.plot(sol_an_plot , volt_an,color=battery_color[\"light_blue\"], linestyle='--')\n",
    "    ax.plot(1-sol, volt_cath,color=battery_color[\"green\"], linestyle='--')\n",
    "    ax.plot(soc_cell_clipped,volt_cell_clipped, color=battery_color[\"navy_blue\"], linestyle='--')\n",
    "    # Aged curves\n",
    "    ax.plot(sol_an_aged , volt_an, label=\"Graphite OCV\", color=battery_color[\"light_blue\"])\n",
    "    ax.plot(sol_cath_aged, volt_cath, label=\"NCM811 OCV\", color=battery_color[\"green\"])\n",
    "    ax.plot(soc_cell_aged_clipped,volt_cell_aged_clipped, label=\"Cell OCV\", color=battery_color[\"navy_blue\"])\n",
    "    ax.legend(loc='lower right')\n",
    "\n",
    "\n",
    "    ## SoH Arrows    \n",
    "    # existing initial arrow\n",
    "    start = soc_cell_clipped[0]  # start in SOC‑space\n",
    "    end   = soc_cell_clipped[-1] # end in SOC‑space\n",
    "    mid   = 0.5*(start + end)\n",
    "    usage = end - start\n",
    "\n",
    "    ax.annotate(\n",
    "        '',                      \n",
    "        xy=(end, 3),             \n",
    "        xytext=(start, 3),       \n",
    "        arrowprops=dict(\n",
    "            arrowstyle='<->',    \n",
    "            color='black',\n",
    "            linewidth=2,\n",
    "            linestyle='--'       # use dashed line for arrow\n",
    "        )\n",
    "    )\n",
    "\n",
    "    # — now add the aged‑cell arrow at y=2 — #\n",
    "\n",
    "    # aged arrow start/end in SOC‑space\n",
    "    start_aged = soc_cell_aged_clipped[0]\n",
    "    end_aged   = soc_cell_aged_clipped[-1]\n",
    "    mid_aged   = 0.5*(start_aged + end_aged)\n",
    "    usage_aged = end_aged - start_aged\n",
    "\n",
    "    # compute SoH = (aged span) / (fresh span)\n",
    "    soh = usage_aged / usage\n",
    "\n",
    "    ax.annotate(\n",
    "        '',\n",
    "        xy=(end_aged, 2),        \n",
    "        xytext=(start_aged, 2),  \n",
    "        arrowprops=dict(\n",
    "            arrowstyle='<->',\n",
    "            color=battery_color[\"orange\"],\n",
    "            linewidth=2,\n",
    "        )\n",
    "    )\n",
    "    ax.text(\n",
    "        mid_aged, 2.05,\n",
    "        f'SoH = {soh*100:.0f}%',\n",
    "        ha='center', va='bottom',\n",
    "        color=battery_color[\"orange\"]\n",
    "    )\n",
    "\n",
    "    plt.show()\n",
    "\n",
    "interact(\n",
    "    plot_aging_modes,\n",
    "    LAMPE=FloatSlider(min=0, max=0.5, step=0.01, value=0, description=\"LAMPE\"),\n",
    "    LAMNE=FloatSlider(min=0, max=0.5, step=0.01, value=0, description=\"LAMNE\"),\n",
    "    LLI=FloatSlider(min=0, max=0.5, step=0.01, value=0, description=\"LLI\")\n",
    ")"
   ]
  },
  {
   "cell_type": "code",
   "execution_count": 60,
   "id": "8fab4587",
   "metadata": {},
   "outputs": [
    {
     "data": {
      "text/plain": [
       "array([0.        , 0.00724334, 0.01750956, 0.02777579, 0.03804201,\n",
       "       0.04830823, 0.05857446, 0.06884068, 0.0791069 , 0.08937313,\n",
       "       0.09963935, 0.10990557, 0.1201718 , 0.13043802, 0.14070424,\n",
       "       0.15097047, 0.16123669, 0.17150291, 0.18176914, 0.19203536,\n",
       "       0.20230158, 0.21256781, 0.22283403, 0.23310025, 0.24336648,\n",
       "       0.2536327 , 0.26389892, 0.27416515, 0.28443137, 0.29469759,\n",
       "       0.30496382, 0.31523004, 0.32549626, 0.33576249, 0.34602871,\n",
       "       0.35629493, 0.36656116, 0.37682738, 0.3870936 , 0.39735983,\n",
       "       0.40762605, 0.41789227, 0.4281585 , 0.43842472, 0.44869094,\n",
       "       0.45895717, 0.46922339, 0.47948961, 0.48975584, 0.50002206,\n",
       "       0.51028828, 0.52055451, 0.53082073, 0.54108695, 0.55135318,\n",
       "       0.5616194 , 0.57188562, 0.58215185, 0.59241807, 0.60268429,\n",
       "       0.61295052, 0.62321674, 0.63348296, 0.64374919, 0.65401541,\n",
       "       0.66428163, 0.67454786, 0.68481408, 0.6950803 , 0.70534653,\n",
       "       0.71561275, 0.72587897, 0.7361452 , 0.74641142, 0.75667764,\n",
       "       0.76694387, 0.77721009, 0.78747631, 0.79774254, 0.80800876,\n",
       "       0.81827498, 0.82854121, 0.83880743, 0.84907365, 0.85933988,\n",
       "       0.8696061 , 0.87987232, 0.89013855, 0.90040477, 0.91067099,\n",
       "       0.92093722, 0.93120344, 0.94146966, 0.95173589, 0.96200211,\n",
       "       0.97226833, 0.98253456, 0.99280078, 1.        , 1.        ])"
      ]
     },
     "execution_count": 60,
     "metadata": {},
     "output_type": "execute_result"
    }
   ],
   "source": [
    "soc_cell_aged_clipped"
   ]
  },
  {
   "cell_type": "code",
   "execution_count": 61,
   "id": "4ed92572",
   "metadata": {},
   "outputs": [
    {
     "data": {
      "text/plain": [
       "array([0., 0., 0., 0., 0., 0., 0., 0., 0., 0., 0., 0., 0., 0., 0., 0., 0.,\n",
       "       0., 0., 0., 0., 0., 0., 0., 0., 0., 0., 0., 0., 0., 0., 0., 0., 0.,\n",
       "       0., 0., 0., 0., 0., 0., 0., 0., 0., 0., 0., 0., 0., 0., 0., 0., 0.,\n",
       "       0., 0., 0., 0., 0., 0., 0., 0., 0., 0., 0., 0., 0., 0., 0., 0., 0.,\n",
       "       0., 0., 0., 0., 0., 0., 0., 0., 0., 0., 0., 0., 0., 0., 0., 0., 0.,\n",
       "       0., 0., 0., 0., 0., 0., 0., 0., 0., 0., 0., 0., 0., 0., 0.])"
      ]
     },
     "execution_count": 61,
     "metadata": {},
     "output_type": "execute_result"
    }
   ],
   "source": [
    "soc_cell_clipped"
   ]
  },
  {
   "cell_type": "code",
   "execution_count": null,
   "id": "032f68b7",
   "metadata": {},
   "outputs": [
    {
     "data": {
      "text/plain": [
       "np.float64(0.013333225355337763)"
      ]
     },
     "execution_count": 56,
     "metadata": {},
     "output_type": "execute_result"
    }
   ],
   "source": []
  }
 ],
 "metadata": {
  "kernelspec": {
   "display_name": "venv",
   "language": "python",
   "name": "python3"
  },
  "language_info": {
   "codemirror_mode": {
    "name": "ipython",
    "version": 3
   },
   "file_extension": ".py",
   "mimetype": "text/x-python",
   "name": "python",
   "nbconvert_exporter": "python",
   "pygments_lexer": "ipython3",
   "version": "3.11.9"
  }
 },
 "nbformat": 4,
 "nbformat_minor": 5
}
