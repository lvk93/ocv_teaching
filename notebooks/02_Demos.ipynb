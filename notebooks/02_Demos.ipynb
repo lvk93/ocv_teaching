{
 "cells": [
  {
   "cell_type": "code",
   "execution_count": 1,
   "id": "2d40c2c3",
   "metadata": {},
   "outputs": [],
   "source": [
    "import pybamm\n",
    "import ipywidgets as widgets\n",
    "from ocv_teaching import CellOCVReconstruction\n",
    "from ocv_teaching.battery_tank_plot import BatteryTankPlotter\n",
    "\n",
    "\n",
    "# Gemeinsame Initialisierung\n",
    "param      = pybamm.ParameterValues(\"Chen2020\")\n",
    "ocv_anode   = param[\"Negative electrode OCP [V]\"]\n",
    "ocv_cathode = param[\"Positive electrode OCP [V]\"]\n",
    "\n",
    "# Start‑Parameter\n",
    "np_ratio0 = 1.0\n",
    "v_min0    = 2.8\n",
    "v_max0    = 4.2\n",
    "\n",
    "cell_rec = CellOCVReconstruction(\n",
    "    cath_ocv_func=ocv_cathode,\n",
    "    an_ocv_func=ocv_anode,\n",
    "    np_ratio=np_ratio0,\n",
    "    v_min=v_min0,\n",
    "    v_max=v_max0\n",
    ")\n",
    "plotter = BatteryTankPlotter(cell_rec, resolution=500)\n"
   ]
  },
  {
   "cell_type": "code",
   "execution_count": null,
   "id": "ce021af5",
   "metadata": {},
   "outputs": [
    {
     "data": {
      "application/vnd.jupyter.widget-view+json": {
       "model_id": "3dcf3543d05840ed9c7805a39c918742",
       "version_major": 2,
       "version_minor": 0
      },
      "text/plain": [
       "interactive(children=(FloatSlider(value=0.5, description='SOC', max=1.0, step=0.01), Output()), _dom_classes=(…"
      ]
     },
     "metadata": {},
     "output_type": "display_data"
    },
    {
     "data": {
      "text/plain": [
       "<function __main__.update_only_soc(soc)>"
      ]
     },
     "execution_count": 2,
     "metadata": {},
     "output_type": "execute_result"
    }
   ],
   "source": [
    "# Widget 1: Nur SOC\n",
    "def update_only_soc(soc):\n",
    "    plotter.plot(soc=soc, lampe=0, lamne=0, lli=0)\n",
    "\n",
    "widgets.interact(\n",
    "    update_only_soc,\n",
    "    soc=widgets.FloatSlider(min=0, max=1, step=0.01, value=0.5, description='SOC')\n",
    ")\n"
   ]
  },
  {
   "cell_type": "code",
   "execution_count": 3,
   "id": "dc3b24a8",
   "metadata": {},
   "outputs": [
    {
     "data": {
      "application/vnd.jupyter.widget-view+json": {
       "model_id": "65b299b1f393440b9e74b0f5259a7bb2",
       "version_major": 2,
       "version_minor": 0
      },
      "text/plain": [
       "interactive(children=(FloatSlider(value=0.5, description='SOC', max=1.0, step=0.01), FloatSlider(value=2.8, de…"
      ]
     },
     "metadata": {},
     "output_type": "display_data"
    },
    {
     "data": {
      "text/plain": [
       "<function __main__.update_soc_vlimits(soc, v_min, v_max)>"
      ]
     },
     "execution_count": 3,
     "metadata": {},
     "output_type": "execute_result"
    }
   ],
   "source": [
    "# Widget 2: SOC & Spannungslimits\n",
    "def update_soc_vlimits(soc, v_min, v_max):\n",
    "    cell_rec.v_min = v_min\n",
    "    cell_rec.v_max = v_max\n",
    "    plotter.plot(soc=soc, lampe=0, lamne=0, lli=0)\n",
    "\n",
    "widgets.interact(\n",
    "    update_soc_vlimits,\n",
    "    soc=   widgets.FloatSlider(min=0, max=1, step=0.01, value=0.5, description='SOC'),\n",
    "    v_min= widgets.FloatSlider(min=2.0, max=3.5, step=0.01, value=v_min0, description='V_min'),\n",
    "    v_max= widgets.FloatSlider(min=3.5, max=4.5, step=0.01, value=v_max0, description='V_max'),\n",
    ")\n"
   ]
  },
  {
   "cell_type": "code",
   "execution_count": null,
   "id": "57054e94",
   "metadata": {},
   "outputs": [
    {
     "data": {
      "application/vnd.jupyter.widget-view+json": {
       "model_id": "39b3a35d35a24624ae4446f98b433172",
       "version_major": 2,
       "version_minor": 0
      },
      "text/plain": [
       "interactive(children=(FloatSlider(value=0.5, description='SOC', max=1.0, step=0.01), FloatSlider(value=1.0, de…"
      ]
     },
     "metadata": {},
     "output_type": "display_data"
    },
    {
     "data": {
      "text/plain": [
       "<function __main__.update_soc_npratio(soc, np_ratio)>"
      ]
     },
     "execution_count": 4,
     "metadata": {},
     "output_type": "execute_result"
    }
   ],
   "source": [
    "# Widget 3: SOC & N:P-Ratio\n",
    "def update_soc_npratio(soc, np_ratio):\n",
    "    cell_rec.np_ratio = np_ratio\n",
    "    plotter.plot(soc=soc, lampe=0, lamne=0, lli=0)\n",
    "\n",
    "widgets.interact(\n",
    "    update_soc_npratio,\n",
    "    soc=     widgets.FloatSlider(min=0, max=1, step=0.01, value=0.5, description='SOC'),\n",
    "    np_ratio=widgets.FloatSlider(min=0.9, max=2.0, step=0.05, value=np_ratio0, description='N:P ratio'),\n",
    ")"
   ]
  },
  {
   "cell_type": "code",
   "execution_count": null,
   "id": "0c642f52",
   "metadata": {},
   "outputs": [
    {
     "data": {
      "application/vnd.jupyter.widget-view+json": {
       "model_id": "5e3ce1774e9649359561b89db5b05a5e",
       "version_major": 2,
       "version_minor": 0
      },
      "text/plain": [
       "interactive(children=(FloatSlider(value=0.5, description='SOC', max=1.0, step=0.01), FloatSlider(value=0.0, de…"
      ]
     },
     "metadata": {},
     "output_type": "display_data"
    },
    {
     "data": {
      "text/plain": [
       "<function __main__.update_soc_aging(soc, lampe, lamne, lli)>"
      ]
     },
     "execution_count": 5,
     "metadata": {},
     "output_type": "execute_result"
    }
   ],
   "source": [
    "# Widget 4: SOC & Aging‑Parameter\n",
    "def update_soc_aging(soc, lampe, lamne, lli):\n",
    "    plotter.plot(soc=soc, lampe=lampe, lamne=lamne, lli=lli)\n",
    "\n",
    "widgets.interact(\n",
    "    update_soc_aging,\n",
    "    soc=   widgets.FloatSlider(min=0, max=1, step=0.01, value=0.5, description='SOC'),\n",
    "    lampe= widgets.FloatSlider(min=0, max=0.3, step=0.01, value=0.0, description='LAMPE'),\n",
    "    lamne= widgets.FloatSlider(min=0, max=0.3, step=0.01, value=0.0, description='LAMNE'),\n",
    "    lli=   widgets.FloatSlider(min=0, max=0.3, step=0.01, value=0.0, description='LLI'),\n",
    ")\n"
   ]
  }
 ],
 "metadata": {
  "kernelspec": {
   "display_name": "venv",
   "language": "python",
   "name": "python3"
  },
  "language_info": {
   "codemirror_mode": {
    "name": "ipython",
    "version": 3
   },
   "file_extension": ".py",
   "mimetype": "text/x-python",
   "name": "python",
   "nbconvert_exporter": "python",
   "pygments_lexer": "ipython3",
   "version": "3.11.9"
  }
 },
 "nbformat": 4,
 "nbformat_minor": 5
}
