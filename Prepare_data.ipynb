{
 "cells": [
  {
   "cell_type": "markdown",
   "id": "fcc2c34a",
   "metadata": {},
   "source": [
    "Prepare realistic material OCV data from Li ion db"
   ]
  },
  {
   "cell_type": "code",
   "execution_count": null,
   "id": "ea4fed47",
   "metadata": {},
   "outputs": [],
   "source": [
    "%rm -rf liiondb #uncomment if refreshing\n",
    "!git clone https://github.com/ndrewwang/liiondb.git\n",
    "import pandas as pd\n",
    "import matplotlib.pyplot as plt\n",
    "import numpy as np\n",
    "import liiondb.functions.fn_db as fn_db\n",
    "dfndb, db_connection = fn_db.liiondb()"
   ]
  }
 ],
 "metadata": {
  "kernelspec": {
   "display_name": "venv",
   "language": "python",
   "name": "python3"
  },
  "language_info": {
   "name": "python",
   "version": "3.11.9"
  }
 },
 "nbformat": 4,
 "nbformat_minor": 5
}
