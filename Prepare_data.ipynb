{
 "cells": [
  {
   "cell_type": "code",
   "execution_count": 2,
   "id": "b9e17deb",
   "metadata": {},
   "outputs": [],
   "source": [
    "import os, sys\n",
    "import pandas as pd\n",
    "import matplotlib.pyplot as plt\n",
    "import numpy as np\n",
    "from sqlalchemy import text\n",
    "\n",
    "# 1. Point at your local liiondb clone\n",
    "cwd = os.getcwd()\n",
    "liiondb_root = os.path.abspath(os.path.join(cwd, '..', 'liiondb'))\n",
    "sys.path.insert(0, liiondb_root)\n",
    "\n",
    "# 2. Import DB routines and connect\n",
    "from functions.fn_db import liiondb, read_data\n",
    "engine, _ = liiondb()\n",
    "\n",
    "# 3. Shared parameterized SQL for half-cell OCV\n",
    "stmt = text(\"\"\"\n",
    "  SELECT data_id, raw_data, raw_data_class, function\n",
    "    FROM data\n",
    "    JOIN parameter USING (parameter_id)\n",
    "    JOIN material  USING (material_id)\n",
    "   WHERE parameter.name = :param_name\n",
    "     AND material.name  = :mat_name\n",
    "\"\"\")\n"
   ]
  },
  {
   "cell_type": "markdown",
   "id": "beee76d1",
   "metadata": {},
   "source": [
    "Query and plot for NCM"
   ]
  },
  {
   "cell_type": "code",
   "execution_count": 3,
   "id": "51c69f25",
   "metadata": {},
   "outputs": [
    {
     "name": "stdout",
     "output_type": "stream",
     "text": [
      "   data_id                                           raw_data raw_data_class  \\\n",
      "0      129  {{0.256747889,4.2935653},{0.25950522,4.2768621...          array   \n",
      "1      626  {{0.0015052684395380214,4.293542074363994},{0....          array   \n",
      "\n",
      "                                            function  \n",
      "0  [b'\\n', b'd', b'e', b'f', b' ', b'f', b'u', b'...  \n",
      "1                                               None  \n"
     ]
    },
    {
     "data": {
      "image/png": "[encoded data removed]",
      "text/plain": [
       "<Figure size 640x480 with 1 Axes>"
      ]
     },
     "metadata": {},
     "output_type": "display_data"
    }
   ],
   "source": [
    "import os, sys\n",
    "import pandas as pd\n",
    "import matplotlib.pyplot as plt\n",
    "import numpy as np\n",
    "from sqlalchemy import text\n",
    "\n",
    "# 1) Point at your local liiondb checkout\n",
    "cwd = os.getcwd()\n",
    "liiondb_root = os.path.abspath(os.path.join(cwd, '..', 'liiondb'))\n",
    "sys.path.insert(0, liiondb_root)\n",
    "\n",
    "# 2) Import and connect\n",
    "from functions.fn_db import liiondb, read_data\n",
    "engine, _ = liiondb()\n",
    "\n",
    "# 3) Prepare a parameterized SQLAlchemy TextClause\n",
    "stmt = text(\"\"\"\n",
    "  SELECT data_id, raw_data, raw_data_class, function\n",
    "    FROM data\n",
    "    JOIN parameter USING (parameter_id)\n",
    "    JOIN material  USING (material_id)\n",
    "   WHERE parameter.name = :param_name\n",
    "     AND material.name  = :mat_name\n",
    "\"\"\")\n",
    "mat_name = \"NMC811\"  # Material name\n",
    "# 4) Execute via a Connection and fetch all rows\n",
    "with engine.connect() as conn:\n",
    "    result = conn.execute(stmt, {\"param_name\": \"half cell ocv\", \"mat_name\": mat_name})\n",
    "    rows = result.fetchall()\n",
    "    cols = result.keys()\n",
    "\n",
    "# 5) Build a DataFrame\n",
    "df = pd.DataFrame(rows, columns=cols)\n",
    "print(df.head())\n",
    "\n",
    "# 6) Parse & plot the first curve\n",
    "first = df.iloc[[0]]            # 1-row DataFrame\n",
    "arr   = read_data(first)        # Nx2 array [SOC, Voltage]\n",
    "soc, volt = arr[:, 0], arr[:, 1]\n",
    "\n",
    "# 7) Normalize SOC to [0, 1] \n",
    "soc = (soc - soc.min()) / (soc.max() - soc.min())\n",
    "\n",
    "plt.plot(soc, volt, '-o')\n",
    "plt.xlabel('SOC')\n",
    "plt.ylabel('Voltage (V)')\n",
    "plt.title(f'{mat_name} Half‐Cell OCV')\n",
    "plt.grid(True)\n",
    "plt.show()\n",
    "\n",
    "df = pd.DataFrame({\n",
    "    'SOC': soc,\n",
    "    'Voltage': volt\n",
    "})\n",
    "#df.to_csv(f'{mat_name}_half_cell_ocv.csv', index=False)\n",
    "\n",
    "\n"
   ]
  },
  {
   "cell_type": "code",
   "execution_count": 6,
   "id": "c1a74f47",
   "metadata": {},
   "outputs": [
    {
     "data": {
      "text/plain": [
       "0    [b'\\n', b'd', b'e', b'f', b' ', b'f', b'u', b'...\n",
       "Name: function, dtype: object"
      ]
     },
     "execution_count": 6,
     "metadata": {},
     "output_type": "execute_result"
    }
   ],
   "source": [
    "first.function"
   ]
  },
  {
   "cell_type": "code",
   "execution_count": null,
   "id": "239cea26",
   "metadata": {},
   "outputs": [],
   "source": []
  }
 ],
 "metadata": {
  "kernelspec": {
   "display_name": "venv",
   "language": "python",
   "name": "python3"
  },
  "language_info": {
   "codemirror_mode": {
    "name": "ipython",
    "version": 3
   },
   "file_extension": ".py",
   "mimetype": "text/x-python",
   "name": "python",
   "nbconvert_exporter": "python",
   "pygments_lexer": "ipython3",
   "version": "3.11.9"
  }
 },
 "nbformat": 4,
 "nbformat_minor": 5
}
