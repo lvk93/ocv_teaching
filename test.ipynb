{
 "cells": [
  {
   "cell_type": "code",
   "execution_count": null,
   "id": "c996b67b",
   "metadata": {},
   "outputs": [
    {
     "ename": "ModuleNotFoundError",
     "evalue": "No module named 'battery_ocv_toolbox'",
     "output_type": "error",
     "traceback": [
      "\u001b[31m---------------------------------------------------------------------------\u001b[39m",
      "\u001b[31mModuleNotFoundError\u001b[39m                       Traceback (most recent call last)",
      "\u001b[36mCell\u001b[39m\u001b[36m \u001b[39m\u001b[32mIn[3]\u001b[39m\u001b[32m, line 17\u001b[39m\n\u001b[32m     15\u001b[39m \u001b[38;5;28;01mimport\u001b[39;00m\u001b[38;5;250m \u001b[39m\u001b[34;01msys\u001b[39;00m\n\u001b[32m     16\u001b[39m sys.path.append(\u001b[33m'\u001b[39m\u001b[33m.\u001b[39m\u001b[33m'\u001b[39m)  \u001b[38;5;66;03m# Assumes root contains battery_ocv_toolbox/\u001b[39;00m\n\u001b[32m---> \u001b[39m\u001b[32m17\u001b[39m \u001b[38;5;28;01mimport\u001b[39;00m\u001b[38;5;250m \u001b[39m\u001b[34;01mbattery_ocv_toolbox\u001b[39;00m   \u001b[38;5;66;03m# Import the package\u001b[39;00m\n\u001b[32m     18\u001b[39m \u001b[38;5;66;03m#from ocv_teaching import OCV, ActiveMaterial, OCVBlending, CellOCVReconstruction\u001b[39;00m\n\u001b[32m     19\u001b[39m \n\u001b[32m     20\u001b[39m \u001b[38;5;66;03m# --- 1. Load OCV data ---\u001b[39;00m\n\u001b[32m     21\u001b[39m \u001b[38;5;66;03m# CSV files should have columns: soc, voltage_charge, voltage_discharge\u001b[39;00m\n\u001b[32m     22\u001b[39m pos_df = pd.read_csv(\u001b[33m'\u001b[39m\u001b[33mdata/ocv_positive.csv\u001b[39m\u001b[33m'\u001b[39m)\n",
      "\u001b[31mModuleNotFoundError\u001b[39m: No module named 'battery_ocv_toolbox'"
     ]
    }
   ],
   "source": [
    "# example_usage.py\n",
    "\"\"\"\n",
    "Example script demonstrating how to use the `battery_ocv_toolbox` package:\n",
    " 1. Load OCV data from CSV files\n",
    " 2. Instantiate OCV and ActiveMaterial objects\n",
    " 3. Perform OCV blending\n",
    " 4. Reconstruct full-cell OCV\n",
    " 5. Plot results\n",
    "\"\"\"\n",
    "import numpy as np\n",
    "import pandas as pd\n",
    "import matplotlib.pyplot as plt\n",
    "\n",
    "# Adjust path if the package is not installed\n",
    "import sys\n",
    "sys.path.append('.')  # Assumes root contains battery_ocv_toolbox/\n",
    "# Import the package\n",
    "from ocv_teaching import OCV, ActiveMaterial, OCVBlending, CellOCVReconstruction\n",
    "\n",
    "# --- 1. Load OCV data ---\n",
    "# CSV files should have columns: soc, voltage_charge, voltage_discharge\n",
    "pos_df = pd.read_csv('data/ocv_positive.csv')\n",
    "neg_df = pd.read_csv('data/ocv_negative.csv')\n",
    "\n",
    "soc_pos = pos_df['soc'].values\n",
    "v_pos_charge = pos_df['voltage_charge'].values\n",
    "v_pos_discharge = pos_df['voltage_discharge'].values\n",
    "\n",
    "soc_neg = neg_df['soc'].values\n",
    "v_neg_charge = neg_df['voltage_charge'].values\n",
    "v_neg_discharge = neg_df['voltage_discharge'].values\n",
    "\n",
    "# --- 2. Instantiate OCV and ActiveMaterial objects ---\n",
    "pos_ocv = OCV(soc_pos, v_pos_charge, v_pos_discharge)\n",
    "neg_ocv = OCV(soc_neg, v_neg_charge, v_neg_discharge)\n",
    "\n",
    "pos_mat = ActiveMaterial(pos_ocv, specific_capacity=2.5, formation_loss=0.02)\n",
    "neg_mat = ActiveMaterial(neg_ocv, specific_capacity=2.5, formation_loss=0.10)\n",
    "\n",
    "# --- 3. Blend OCV curves ---\n",
    "blend_ratio = 0.6  # 60% positive material\n",
    "blender = OCVBlending(pos_mat, neg_mat, cap_ratio=blend_ratio)\n",
    "soc_blend, v_blend = blender.blend(mode='charge')\n",
    "\n",
    "# Plot blended OCV\n",
    "plt.figure()\n",
    "plt.plot(soc_blend, v_blend)\n",
    "plt.xlabel('SOC')\n",
    "plt.ylabel('Voltage (V)')\n",
    "plt.title(f'Blended OCV (charge) — ratio {blend_ratio}')\n",
    "plt.show()\n",
    "\n",
    "# --- 4. Reconstruct full-cell OCV ---\n",
    "np_ratio = 1.1\n",
    "cell = CellOCVReconstruction(pos_mat, neg_mat, np_ratio=np_ratio)\n",
    "soc_cell, v_cell = cell.reconstruct(mode='charge')\n",
    "\n",
    "# Plot full-cell reconstruction\n",
    "plt.figure()\n",
    "plt.plot(soc_cell, v_cell)\n",
    "plt.xlabel('Full-Cell SOC')\n",
    "plt.ylabel('Cell Voltage (V)')\n",
    "plt.title(f'Full-Cell OCV Reconstruction (charge) — N:P {np_ratio}')\n",
    "plt.show()\n",
    "\n",
    "# --- 5. Save outputs if desired ---\n",
    "np.savetxt('output/blended_ocv.csv', np.vstack([soc_blend, v_blend]).T,\n",
    "           header='soc,voltage', delimiter=',', comments='')\n",
    "np.savetxt('output/cell_ocv.csv', np.vstack([soc_cell, v_cell]).T,\n",
    "           header='soc,voltage', delimiter=',', comments='')\n"
   ]
  }
 ],
 "metadata": {
  "kernelspec": {
   "display_name": "venv",
   "language": "python",
   "name": "python3"
  },
  "language_info": {
   "codemirror_mode": {
    "name": "ipython",
    "version": 3
   },
   "file_extension": ".py",
   "mimetype": "text/x-python",
   "name": "python",
   "nbconvert_exporter": "python",
   "pygments_lexer": "ipython3",
   "version": "3.11.9"
  }
 },
 "nbformat": 4,
 "nbformat_minor": 5
}
